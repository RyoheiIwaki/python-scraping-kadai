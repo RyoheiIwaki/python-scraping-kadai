{
  "nbformat": 4,
  "nbformat_minor": 0,
  "metadata": {
    "colab": {
      "provenance": []
    },
    "kernelspec": {
      "name": "python3",
      "display_name": "Python 3"
    },
    "language_info": {
      "name": "python"
    }
  },
  "cells": [
    {
      "cell_type": "code",
      "execution_count": 1,
      "metadata": {
        "colab": {
          "base_uri": "https://localhost:8080/"
        },
        "id": "dQPksyc-hDh8",
        "outputId": "6f63968d-b490-47ba-f52c-3b4b3d8486a1"
      },
      "outputs": [
        {
          "output_type": "stream",
          "name": "stdout",
          "text": [
            "　【ワシントン共同】トランプ新政権の当局者は20日、両親が米国籍を持たなくても米国で生まれた子どもに自動的に国籍を与える制度を廃止する意向だと明らかにした。出生地主義に基づく国籍付与は憲法で規定されており、法廷闘争になるとみられる。\n",
            "\n",
            "　出生地主義の制度廃止は、トランプ次期大統領による厳格な不法移民対策の一環。トランプ氏は1期目の2018年10月にも大統領令で制度を廃止する考えを示したが、人権団体の批判を受けて立ち消えとなった。\n",
            "\n",
            "　新政権当局者は、バイデン政権が進めた多様性・公平性・包括性（DEI）に関する政策を終わらせると表明した。連邦政府が認める性別は、男性と女性だけだと宣言する方針も明らかにした。トランプ氏はトランスジェンダーを敵視する発言を繰り返していた。\n"
          ]
        }
      ],
      "source": [
        "import requests\n",
        "from bs4 import BeautifulSoup\n",
        "\n",
        "# タイトルを取得する対象のURL\n",
        "url = 'https://news.yahoo.co.jp/articles/8c6f61d4f2d0187e4f7bf03360f98e7ab209c28d'\n",
        "\n",
        "# GETリクエストを送信し、HTMLを取得する\n",
        "response = requests.get(url)\n",
        "\n",
        "# HTMLを解析する\n",
        "soup = BeautifulSoup(response.text, 'html.parser')\n",
        "\n",
        "# タイトルの要素を取得する\n",
        "# CSSセレクタを使用して、タイトルを取得する\n",
        "title_element = soup.select_one('#uamods > div > div > p')\n",
        "\n",
        "title_text = title_element.text\n",
        "\n",
        "print(title_text)"
      ]
    }
  ]
}