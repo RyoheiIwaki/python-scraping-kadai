{
  "nbformat": 4,
  "nbformat_minor": 0,
  "metadata": {
    "colab": {
      "provenance": []
    },
    "kernelspec": {
      "name": "python3",
      "display_name": "Python 3"
    },
    "language_info": {
      "name": "python"
    }
  },
  "cells": [
    {
      "cell_type": "code",
      "execution_count": 18,
      "metadata": {
        "colab": {
          "base_uri": "https://localhost:8080/"
        },
        "id": "dQPksyc-hDh8",
        "outputId": "caa4523f-f254-4661-e3ce-a183fa879257"
      },
      "outputs": [
        {
          "output_type": "stream",
          "name": "stdout",
          "text": [
            "APIキーを入力してください: ··········\n",
            "駅名を入力してください: 浦和\n",
            "よし佳 4.1 埼玉県さいたま市さいたま市浦和区東仲町２８−２３\n",
            "魚菜 基（MOTOSHI） 4.1 埼玉県さいたま市さいたま市浦和区高砂２丁目１２−２２\n",
            "デニーズ 浦和駅前店 3.4 埼玉県さいたま市さいたま市浦和区高砂１丁目１６−７ メッツ浦和 １F 浦和 JR東日本ホテル\n",
            "ロイヤルパインズホテル浦和 4 埼玉県さいたま市さいたま市浦和区仲町２丁目５−１\n",
            "nana's green tea 浦和パルコ店 3.9 埼玉県さいたま市さいたま市浦和区東高砂町１１−１\n",
            "満寿家 4.2 埼玉県さいたま市さいたま市浦和区岸町７丁目１−３\n",
            "築地寿司清浦和店 3.8 埼玉県さいたま市さいたま市浦和区高砂１丁目１５−１ 伊勢丹浦和7F\n",
            "つくね 焼き鳥 居酒屋 高山商店 浦和本店 4.2 埼玉県さいたま市さいたま市浦和区高砂２丁目１４−１７ B1F\n",
            "隠れ家的個室 ピッツァ食堂 ヴァンエール 浦和 3.5 埼玉県さいたま市さいたま市浦和区仲町１丁目２−１４ 関ビル 3Ｆ\n",
            "ロンドン酒場 アーロン 浦和 4.4 埼玉県さいたま市さいたま市浦和区仲町１丁目９−１４\n",
            "神戸屋キッチン デリ＆カフェ アトレ浦和店 3.6 埼玉県さいたま市さいたま市浦和区高砂１丁目１６−１２ アトレ浦和 内\n",
            "ラ ココリコ 浦和 (LA COCORICO Urawa) 3.8 埼玉県さいたま市さいたま市浦和区仲町１丁目２−３\n",
            "BACCHUS (バッカス) 4.4 埼玉県さいたま市さいたま市浦和区岸町４丁目１−３５\n",
            "焼鳥ダイニング いただきコッコちゃん 浦和店 4 埼玉県さいたま市さいたま市浦和区仲町１丁目３−６ 浦和仲町ＹＫビル 2F\n",
            "浦和ラーメン王 3.9 埼玉県さいたま市さいたま市浦和区仲町１丁目８−１\n",
            "ぬちぐすい（命薬） 4 埼玉県さいたま市さいたま市浦和区東高砂町６−２\n",
            "ペストリーショップ ラ·モーラ 4 埼玉県さいたま市さいたま市浦和区仲町２丁目５−１ ロイヤルパインズホテル浦和 1F\n",
            "うなぎ瀧澤 3.9 埼玉県さいたま市さいたま市浦和区高砂２丁目１４−１７ 日建第２高砂ビル １階\n",
            "PRONTO アトレ浦和店 3.5 埼玉県さいたま市さいたま市浦和区高砂１丁目１６−１２ アトレ浦和\n",
            "いぶし仲町 4.6 埼玉県さいたま市さいたま市浦和区東仲町１５−１２ 燻製居酒屋いぶし仲町\n"
          ]
        }
      ],
      "source": [
        "import requests\n",
        "import pprint\n",
        "from getpass import getpass\n",
        "\n",
        "# APIキーを指定\n",
        "api_key = getpass('APIキーを入力してください: ')\n",
        "\n",
        "# 検索キーワードを変数search_wordに格納\n",
        "search_word = input('駅名を入力してください: ')+'駅'\n",
        "\n",
        "# Google Maps APIのURL（緯度経度取得用）\n",
        "url = 'https://maps.googleapis.com/maps/api/geocode/json'\n",
        "\n",
        "# データを取得\n",
        "response = requests.get(\n",
        "    url,\n",
        "    params={\n",
        "        'key': api_key,  # APIキーをパラメータに追加\n",
        "        'address': search_word,  # 駅名をパラメータに追加\n",
        "    }\n",
        ")\n",
        "\n",
        "# レスポンスのJSONを取得\n",
        "json_data = response.json()\n",
        "\n",
        "# Google Maps APIのURL（レストラン情報取得用）\n",
        "rest_url = 'https://maps.googleapis.com/maps/api/place/nearbysearch/json'\n",
        "\n",
        "latitude = json_data['results'][0]['geometry'][\"location\"][\"lat\"]\n",
        "longitude = json_data['results'][0]['geometry'][\"location\"][\"lng\"]\n",
        "\n",
        "# データを取得\n",
        "rest_response = requests.get(\n",
        "    rest_url,\n",
        "    params={\n",
        "        'key': api_key,  # APIキーをパラメータに追加\n",
        "        'location': f'{latitude},{longitude}',# 緯度と経度をカンマで区切った文字列としてパラメータに追加\n",
        "        'language': 'ja', # 言語をパラメータに追加\n",
        "        'radius': 500, # 検索半径をパラメータに追加\n",
        "        'type': 'restaurant' # ビジネス種別をパラメータに追加\n",
        "    }\n",
        ")\n",
        "\n",
        "# レスポンスのJSONを取得\n",
        "rest_json_data = rest_response.json()\n",
        "\n",
        "# 取得したレストラン名を一覧表示\n",
        "for result in rest_json_data['results']:\n",
        "    restaurant_name = result['name']\n",
        "    restaurant_rate = result['rating']\n",
        "    restaurant_city = result['plus_code']['compound_code'].split('日本、')[1]\n",
        "    restaurant_address = result['vicinity']\n",
        "    print(f'{restaurant_name} {restaurant_rate} {restaurant_city}{restaurant_address}')\n"
      ]
    }
  ]
}